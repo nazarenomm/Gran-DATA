{
 "cells": [
  {
   "cell_type": "code",
   "execution_count": 16,
   "metadata": {},
   "outputs": [],
   "source": [
    "import pandas as pd\n",
    "import time"
   ]
  },
  {
   "cell_type": "code",
   "execution_count": 17,
   "metadata": {},
   "outputs": [],
   "source": [
    "df = pd.read_html(\"https://fbref.com/en/comps/21/Liga-Profesional-Argentina-Stats\", extract_links=\"body\")[0]"
   ]
  },
  {
   "cell_type": "code",
   "execution_count": 18,
   "metadata": {},
   "outputs": [],
   "source": [
    "fbref = \"https://fbref.com\""
   ]
  },
  {
   "cell_type": "code",
   "execution_count": 19,
   "metadata": {},
   "outputs": [],
   "source": [
    "df = df[\"Squad\"]"
   ]
  },
  {
   "cell_type": "code",
   "execution_count": 20,
   "metadata": {},
   "outputs": [],
   "source": [
    "jugadores = []\n",
    "equipos = []\n",
    "pos = []\n",
    "for equipo, link in df:\n",
    "    df_temp = pd.read_html(fbref + link)[0]\n",
    "\n",
    "    jugadores += df_temp[('Unnamed: 0_level_0', 'Player')].tolist()\n",
    "    equipos += [equipo] * len(df_temp)\n",
    "    pos += df_temp[('Unnamed: 2_level_0', 'Pos')].tolist()\n",
    "\n",
    "    time.sleep(10)"
   ]
  },
  {
   "cell_type": "code",
   "execution_count": 28,
   "metadata": {},
   "outputs": [],
   "source": [
    "df = pd.DataFrame({\"Jugador\": jugadores, \"Equipo\": equipos, \"Pos\": pos})"
   ]
  },
  {
   "cell_type": "code",
   "execution_count": 29,
   "metadata": {},
   "outputs": [
    {
     "data": {
      "text/html": [
       "<div>\n",
       "<style scoped>\n",
       "    .dataframe tbody tr th:only-of-type {\n",
       "        vertical-align: middle;\n",
       "    }\n",
       "\n",
       "    .dataframe tbody tr th {\n",
       "        vertical-align: top;\n",
       "    }\n",
       "\n",
       "    .dataframe thead th {\n",
       "        text-align: right;\n",
       "    }\n",
       "</style>\n",
       "<table border=\"1\" class=\"dataframe\">\n",
       "  <thead>\n",
       "    <tr style=\"text-align: right;\">\n",
       "      <th></th>\n",
       "      <th>Jugador</th>\n",
       "      <th>Equipo</th>\n",
       "      <th>Pos</th>\n",
       "    </tr>\n",
       "  </thead>\n",
       "  <tbody>\n",
       "    <tr>\n",
       "      <th>0</th>\n",
       "      <td>Elías Gómez</td>\n",
       "      <td>Vélez Sarsfield</td>\n",
       "      <td>DF</td>\n",
       "    </tr>\n",
       "    <tr>\n",
       "      <th>1</th>\n",
       "      <td>Francisco Pizzini</td>\n",
       "      <td>Vélez Sarsfield</td>\n",
       "      <td>FW</td>\n",
       "    </tr>\n",
       "    <tr>\n",
       "      <th>2</th>\n",
       "      <td>Braian Romero</td>\n",
       "      <td>Vélez Sarsfield</td>\n",
       "      <td>FW</td>\n",
       "    </tr>\n",
       "    <tr>\n",
       "      <th>3</th>\n",
       "      <td>Claudio Aquino</td>\n",
       "      <td>Vélez Sarsfield</td>\n",
       "      <td>MF</td>\n",
       "    </tr>\n",
       "    <tr>\n",
       "      <th>4</th>\n",
       "      <td>Tomás Marchiori</td>\n",
       "      <td>Vélez Sarsfield</td>\n",
       "      <td>GK</td>\n",
       "    </tr>\n",
       "    <tr>\n",
       "      <th>...</th>\n",
       "      <td>...</td>\n",
       "      <td>...</td>\n",
       "      <td>...</td>\n",
       "    </tr>\n",
       "    <tr>\n",
       "      <th>1187</th>\n",
       "      <td>Agustín Irazoque</td>\n",
       "      <td>Barracas Central</td>\n",
       "      <td>DF</td>\n",
       "    </tr>\n",
       "    <tr>\n",
       "      <th>1188</th>\n",
       "      <td>Bahiano Benjamín García</td>\n",
       "      <td>Barracas Central</td>\n",
       "      <td>MF</td>\n",
       "    </tr>\n",
       "    <tr>\n",
       "      <th>1189</th>\n",
       "      <td>Facundo Bruera</td>\n",
       "      <td>Barracas Central</td>\n",
       "      <td>FW</td>\n",
       "    </tr>\n",
       "    <tr>\n",
       "      <th>1190</th>\n",
       "      <td>Lucas Faggioli</td>\n",
       "      <td>Barracas Central</td>\n",
       "      <td>DF</td>\n",
       "    </tr>\n",
       "    <tr>\n",
       "      <th>1191</th>\n",
       "      <td>Santiago Villalba</td>\n",
       "      <td>Barracas Central</td>\n",
       "      <td>MF</td>\n",
       "    </tr>\n",
       "  </tbody>\n",
       "</table>\n",
       "<p>1138 rows × 3 columns</p>\n",
       "</div>"
      ],
      "text/plain": [
       "                      Jugador            Equipo Pos\n",
       "0                 Elías Gómez   Vélez Sarsfield  DF\n",
       "1           Francisco Pizzini   Vélez Sarsfield  FW\n",
       "2               Braian Romero   Vélez Sarsfield  FW\n",
       "3              Claudio Aquino   Vélez Sarsfield  MF\n",
       "4             Tomás Marchiori   Vélez Sarsfield  GK\n",
       "...                       ...               ...  ..\n",
       "1187         Agustín Irazoque  Barracas Central  DF\n",
       "1188  Bahiano Benjamín García  Barracas Central  MF\n",
       "1189           Facundo Bruera  Barracas Central  FW\n",
       "1190           Lucas Faggioli  Barracas Central  DF\n",
       "1191        Santiago Villalba  Barracas Central  MF\n",
       "\n",
       "[1138 rows x 3 columns]"
      ]
     },
     "execution_count": 29,
     "metadata": {},
     "output_type": "execute_result"
    }
   ],
   "source": [
    "valores_a_droppear = [\"Squad Total\", \"Opponent Total\", \"Player\"]\n",
    "\n",
    "df = df[~df[\"Jugador\"].isin(valores_a_droppear)]\n",
    "df"
   ]
  },
  {
   "cell_type": "code",
   "execution_count": 30,
   "metadata": {},
   "outputs": [
    {
     "data": {
      "text/html": [
       "<div>\n",
       "<style scoped>\n",
       "    .dataframe tbody tr th:only-of-type {\n",
       "        vertical-align: middle;\n",
       "    }\n",
       "\n",
       "    .dataframe tbody tr th {\n",
       "        vertical-align: top;\n",
       "    }\n",
       "\n",
       "    .dataframe thead th {\n",
       "        text-align: right;\n",
       "    }\n",
       "</style>\n",
       "<table border=\"1\" class=\"dataframe\">\n",
       "  <thead>\n",
       "    <tr style=\"text-align: right;\">\n",
       "      <th></th>\n",
       "      <th>Jugador</th>\n",
       "      <th>Equipo</th>\n",
       "      <th>Pos</th>\n",
       "    </tr>\n",
       "  </thead>\n",
       "  <tbody>\n",
       "    <tr>\n",
       "      <th>0</th>\n",
       "      <td>Elías Gómez</td>\n",
       "      <td>Vélez Sarsfield</td>\n",
       "      <td>DEF</td>\n",
       "    </tr>\n",
       "    <tr>\n",
       "      <th>1</th>\n",
       "      <td>Francisco Pizzini</td>\n",
       "      <td>Vélez Sarsfield</td>\n",
       "      <td>DEL</td>\n",
       "    </tr>\n",
       "    <tr>\n",
       "      <th>2</th>\n",
       "      <td>Braian Romero</td>\n",
       "      <td>Vélez Sarsfield</td>\n",
       "      <td>DEL</td>\n",
       "    </tr>\n",
       "    <tr>\n",
       "      <th>3</th>\n",
       "      <td>Claudio Aquino</td>\n",
       "      <td>Vélez Sarsfield</td>\n",
       "      <td>VOL</td>\n",
       "    </tr>\n",
       "    <tr>\n",
       "      <th>4</th>\n",
       "      <td>Tomás Marchiori</td>\n",
       "      <td>Vélez Sarsfield</td>\n",
       "      <td>ARQ</td>\n",
       "    </tr>\n",
       "  </tbody>\n",
       "</table>\n",
       "</div>"
      ],
      "text/plain": [
       "             Jugador           Equipo  Pos\n",
       "0        Elías Gómez  Vélez Sarsfield  DEF\n",
       "1  Francisco Pizzini  Vélez Sarsfield  DEL\n",
       "2      Braian Romero  Vélez Sarsfield  DEL\n",
       "3     Claudio Aquino  Vélez Sarsfield  VOL\n",
       "4    Tomás Marchiori  Vélez Sarsfield  ARQ"
      ]
     },
     "execution_count": 30,
     "metadata": {},
     "output_type": "execute_result"
    }
   ],
   "source": [
    "df.replace([\"GK\", \"DF\", \"MF\", \"FW\"], [\"ARQ\", \"DEF\", \"VOL\", \"DEL\"], inplace=True)\n",
    "df.head()"
   ]
  },
  {
   "cell_type": "markdown",
   "metadata": {},
   "source": [
    "Pongo de precio 1.000.000 para funcionalidad, ver como agregar un precio real."
   ]
  },
  {
   "cell_type": "code",
   "execution_count": 33,
   "metadata": {},
   "outputs": [],
   "source": [
    "df['Precio'] = 1_000_000"
   ]
  },
  {
   "cell_type": "code",
   "execution_count": 35,
   "metadata": {},
   "outputs": [],
   "source": [
    "df.to_csv(\"data/jugadores.csv\", index=False)"
   ]
  }
 ],
 "metadata": {
  "kernelspec": {
   "display_name": "grandata",
   "language": "python",
   "name": "python3"
  },
  "language_info": {
   "codemirror_mode": {
    "name": "ipython",
    "version": 3
   },
   "file_extension": ".py",
   "mimetype": "text/x-python",
   "name": "python",
   "nbconvert_exporter": "python",
   "pygments_lexer": "ipython3",
   "version": "3.12.7"
  }
 },
 "nbformat": 4,
 "nbformat_minor": 2
}
